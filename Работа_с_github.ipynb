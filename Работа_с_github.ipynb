{
  "nbformat": 4,
  "nbformat_minor": 0,
  "metadata": {
    "colab": {
      "provenance": [],
      "authorship_tag": "ABX9TyO10ehE7eDxpWGZZc72kpJw",
      "include_colab_link": true
    },
    "kernelspec": {
      "name": "python3",
      "display_name": "Python 3"
    },
    "language_info": {
      "name": "python"
    }
  },
  "cells": [
    {
      "cell_type": "markdown",
      "metadata": {
        "id": "view-in-github",
        "colab_type": "text"
      },
      "source": [
        "<a href=\"https://colab.research.google.com/github/shturman637/ProgIng/blob/main/%D0%A0%D0%B0%D0%B1%D0%BE%D1%82%D0%B0_%D1%81_github.ipynb\" target=\"_parent\"><img src=\"https://colab.research.google.com/assets/colab-badge.svg\" alt=\"Open In Colab\"/></a>"
      ]
    },
    {
      "cell_type": "markdown",
      "source": [
        "Создаем необходимую директорию для репозитория"
      ],
      "metadata": {
        "id": "G_4z4SmvMyCY"
      }
    },
    {
      "cell_type": "code",
      "execution_count": null,
      "metadata": {
        "id": "JS2YcoNzMa3J"
      },
      "outputs": [],
      "source": [
        "mkdir имя директории"
      ]
    },
    {
      "cell_type": "markdown",
      "source": [
        "Клонирование удаленного репозитория на локальный компьютер"
      ],
      "metadata": {
        "id": "Zt-Z_09lNDko"
      }
    },
    {
      "cell_type": "code",
      "source": [
        "git clone https://github.com/shturman637/ProgIng.git"
      ],
      "metadata": {
        "id": "Akwa6iWMMwKc"
      },
      "execution_count": null,
      "outputs": []
    },
    {
      "cell_type": "markdown",
      "source": [
        "Статус"
      ],
      "metadata": {
        "id": "cBeudclbNao0"
      }
    },
    {
      "cell_type": "code",
      "source": [
        "git status"
      ],
      "metadata": {
        "id": "8MaMpuKcSNfl"
      },
      "execution_count": null,
      "outputs": []
    },
    {
      "cell_type": "markdown",
      "source": [
        "Добавляем в отслеживаемые файлы и еще раз проверяем статус"
      ],
      "metadata": {
        "id": "PijHMMrRTUn8"
      }
    },
    {
      "cell_type": "code",
      "source": [
        "git add имя файла"
      ],
      "metadata": {
        "id": "CDlV8nYATanQ"
      },
      "execution_count": null,
      "outputs": []
    },
    {
      "cell_type": "markdown",
      "source": [
        "Делаем коммит"
      ],
      "metadata": {
        "id": "_RIzKLS8TfsO"
      }
    },
    {
      "cell_type": "code",
      "source": [
        "git commit -m \"Added file имя файла\"\n",
        "git config --global user.email \"shturman2605@mail.ru\" # вводим, если не дает добавить коммит"
      ],
      "metadata": {
        "id": "R-kHlDpyT8Oo"
      },
      "execution_count": null,
      "outputs": []
    },
    {
      "cell_type": "markdown",
      "source": [
        " отправка изменений с локального компьютера на удаленный репозиторий"
      ],
      "metadata": {
        "id": "7c2H0rpwfOTK"
      }
    },
    {
      "cell_type": "code",
      "source": [
        "git push"
      ],
      "metadata": {
        "id": "yL-_waUXfQqG"
      },
      "execution_count": null,
      "outputs": []
    },
    {
      "cell_type": "markdown",
      "source": [
        " получение изменений с удаленного репозитория на локальный компьютер."
      ],
      "metadata": {
        "id": "yuwbDD-rfxzD"
      }
    },
    {
      "cell_type": "code",
      "source": [
        "it pull"
      ],
      "metadata": {
        "id": "0YYTd3sPf0nZ"
      },
      "execution_count": null,
      "outputs": []
    }
  ]
}